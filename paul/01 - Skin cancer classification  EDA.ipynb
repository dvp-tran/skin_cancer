{
 "cells": [
  {
   "cell_type": "markdown",
   "metadata": {},
   "source": [
    "# Skin cancer classification challenge"
   ]
  },
  {
   "cell_type": "markdown",
   "metadata": {},
   "source": [
    "**Summary :** Skin cancer classification"
   ]
  },
  {
   "cell_type": "markdown",
   "metadata": {},
   "source": [
    "## Preliminaries and Imports"
   ]
  },
  {
   "cell_type": "code",
   "execution_count": 1,
   "metadata": {
    "collapsed": true
   },
   "outputs": [],
   "source": [
    "import pandas as pd\n",
    "import numpy as np\n",
    "import matplotlib.pyplot as plt\n",
    "import seaborn as sns\n",
    "plt.rcParams['figure.figsize'] = 10, 10  #default setting\n",
    "from mpl_toolkits.axes_grid1 import ImageGrid\n",
    "%matplotlib inline"
   ]
  },
  {
   "cell_type": "markdown",
   "metadata": {},
   "source": [
    "## I. Load Data"
   ]
  },
  {
   "cell_type": "markdown",
   "metadata": {},
   "source": [
    "- **Rq : ** Datasets are quite light, can be fully loaded in a laptop memory with ease."
   ]
  },
  {
   "cell_type": "code",
   "execution_count": 2,
   "metadata": {},
   "outputs": [
    {
     "name": "stdout",
     "output_type": "stream",
     "text": [
      "CPU times: user 28 ms, sys: 4 ms, total: 32 ms\n",
      "Wall time: 36.5 ms\n"
     ]
    }
   ],
   "source": [
    "%%time\n",
    "meta = pd.read_csv(\"../data/metadata.csv\")"
   ]
  },
  {
   "cell_type": "code",
   "execution_count": 3,
   "metadata": {},
   "outputs": [
    {
     "name": "stdout",
     "output_type": "stream",
     "text": [
      "(13786, 16)\n"
     ]
    }
   ],
   "source": [
    "print(meta.shape)"
   ]
  },
  {
   "cell_type": "markdown",
   "metadata": {},
   "source": [
    "- **Data integrity check**"
   ]
  },
  {
   "cell_type": "code",
   "execution_count": 4,
   "metadata": {
    "collapsed": true
   },
   "outputs": [],
   "source": [
    "#data integrity check\n",
    "#variable types\n",
    "def summaryze(df):\n",
    "    summary =  pd.DataFrame()\n",
    "    summary[\"column\"] = list(df.columns)\n",
    "    summary[\"type\"] = list(df.dtypes)\n",
    "    summary[\"nb_missing_values\"] = list(df.isnull().sum())\n",
    "    summary[\"nb_missing_values%\"] = summary[\"nb_missing_values\"]/len(df)*100\n",
    "    summary[\"unique_values%\"] = [len(set(df[x])) for x in list(df.columns)]\n",
    "    summary.set_index(\"column\",inplace=True)\n",
    "    return summary"
   ]
  },
  {
   "cell_type": "code",
   "execution_count": 5,
   "metadata": {},
   "outputs": [
    {
     "data": {
      "text/html": [
       "<div>\n",
       "<table border=\"1\" class=\"dataframe\">\n",
       "  <thead>\n",
       "    <tr style=\"text-align: right;\">\n",
       "      <th></th>\n",
       "      <th>type</th>\n",
       "      <th>nb_missing_values</th>\n",
       "      <th>nb_missing_values%</th>\n",
       "      <th>unique_values%</th>\n",
       "    </tr>\n",
       "    <tr>\n",
       "      <th>column</th>\n",
       "      <th></th>\n",
       "      <th></th>\n",
       "      <th></th>\n",
       "      <th></th>\n",
       "    </tr>\n",
       "  </thead>\n",
       "  <tbody>\n",
       "    <tr>\n",
       "      <th>_id</th>\n",
       "      <td>object</td>\n",
       "      <td>0</td>\n",
       "      <td>0.000000</td>\n",
       "      <td>13786</td>\n",
       "    </tr>\n",
       "    <tr>\n",
       "      <th>folder</th>\n",
       "      <td>object</td>\n",
       "      <td>0</td>\n",
       "      <td>0.000000</td>\n",
       "      <td>9</td>\n",
       "    </tr>\n",
       "    <tr>\n",
       "      <th>meta_acquisition_dermoscopic_type</th>\n",
       "      <td>object</td>\n",
       "      <td>11669</td>\n",
       "      <td>84.643842</td>\n",
       "      <td>2</td>\n",
       "    </tr>\n",
       "    <tr>\n",
       "      <th>meta_acquisition_image_type</th>\n",
       "      <td>object</td>\n",
       "      <td>0</td>\n",
       "      <td>0.000000</td>\n",
       "      <td>2</td>\n",
       "    </tr>\n",
       "    <tr>\n",
       "      <th>meta_acquisition_pixelsX</th>\n",
       "      <td>int64</td>\n",
       "      <td>0</td>\n",
       "      <td>0.000000</td>\n",
       "      <td>140</td>\n",
       "    </tr>\n",
       "    <tr>\n",
       "      <th>meta_acquisition_pixelsY</th>\n",
       "      <td>int64</td>\n",
       "      <td>0</td>\n",
       "      <td>0.000000</td>\n",
       "      <td>130</td>\n",
       "    </tr>\n",
       "    <tr>\n",
       "      <th>meta_clinical_age_approx</th>\n",
       "      <td>float64</td>\n",
       "      <td>352</td>\n",
       "      <td>2.553315</td>\n",
       "      <td>370</td>\n",
       "    </tr>\n",
       "    <tr>\n",
       "      <th>meta_clinical_benign_malignant</th>\n",
       "      <td>object</td>\n",
       "      <td>15</td>\n",
       "      <td>0.108806</td>\n",
       "      <td>6</td>\n",
       "    </tr>\n",
       "    <tr>\n",
       "      <th>meta_clinical_clin_size_long_diam_mm</th>\n",
       "      <td>float64</td>\n",
       "      <td>12251</td>\n",
       "      <td>88.865516</td>\n",
       "      <td>12305</td>\n",
       "    </tr>\n",
       "    <tr>\n",
       "      <th>meta_clinical_diagnosis</th>\n",
       "      <td>object</td>\n",
       "      <td>244</td>\n",
       "      <td>1.769912</td>\n",
       "      <td>17</td>\n",
       "    </tr>\n",
       "    <tr>\n",
       "      <th>meta_clinical_diagnosis_confirm_type</th>\n",
       "      <td>object</td>\n",
       "      <td>403</td>\n",
       "      <td>2.923255</td>\n",
       "      <td>3</td>\n",
       "    </tr>\n",
       "    <tr>\n",
       "      <th>meta_clinical_family_hx_mm</th>\n",
       "      <td>object</td>\n",
       "      <td>12274</td>\n",
       "      <td>89.032352</td>\n",
       "      <td>3</td>\n",
       "    </tr>\n",
       "    <tr>\n",
       "      <th>meta_clinical_melanocytic</th>\n",
       "      <td>object</td>\n",
       "      <td>240</td>\n",
       "      <td>1.740897</td>\n",
       "      <td>3</td>\n",
       "    </tr>\n",
       "    <tr>\n",
       "      <th>meta_clinical_personal_hx_mm</th>\n",
       "      <td>object</td>\n",
       "      <td>12253</td>\n",
       "      <td>88.880023</td>\n",
       "      <td>3</td>\n",
       "    </tr>\n",
       "    <tr>\n",
       "      <th>meta_clinical_sex</th>\n",
       "      <td>object</td>\n",
       "      <td>370</td>\n",
       "      <td>2.683882</td>\n",
       "      <td>3</td>\n",
       "    </tr>\n",
       "    <tr>\n",
       "      <th>name</th>\n",
       "      <td>object</td>\n",
       "      <td>0</td>\n",
       "      <td>0.000000</td>\n",
       "      <td>13786</td>\n",
       "    </tr>\n",
       "  </tbody>\n",
       "</table>\n",
       "</div>"
      ],
      "text/plain": [
       "                                         type  nb_missing_values  \\\n",
       "column                                                             \n",
       "_id                                    object                  0   \n",
       "folder                                 object                  0   \n",
       "meta_acquisition_dermoscopic_type      object              11669   \n",
       "meta_acquisition_image_type            object                  0   \n",
       "meta_acquisition_pixelsX                int64                  0   \n",
       "meta_acquisition_pixelsY                int64                  0   \n",
       "meta_clinical_age_approx              float64                352   \n",
       "meta_clinical_benign_malignant         object                 15   \n",
       "meta_clinical_clin_size_long_diam_mm  float64              12251   \n",
       "meta_clinical_diagnosis                object                244   \n",
       "meta_clinical_diagnosis_confirm_type   object                403   \n",
       "meta_clinical_family_hx_mm             object              12274   \n",
       "meta_clinical_melanocytic              object                240   \n",
       "meta_clinical_personal_hx_mm           object              12253   \n",
       "meta_clinical_sex                      object                370   \n",
       "name                                   object                  0   \n",
       "\n",
       "                                      nb_missing_values%  unique_values%  \n",
       "column                                                                    \n",
       "_id                                             0.000000           13786  \n",
       "folder                                          0.000000               9  \n",
       "meta_acquisition_dermoscopic_type              84.643842               2  \n",
       "meta_acquisition_image_type                     0.000000               2  \n",
       "meta_acquisition_pixelsX                        0.000000             140  \n",
       "meta_acquisition_pixelsY                        0.000000             130  \n",
       "meta_clinical_age_approx                        2.553315             370  \n",
       "meta_clinical_benign_malignant                  0.108806               6  \n",
       "meta_clinical_clin_size_long_diam_mm           88.865516           12305  \n",
       "meta_clinical_diagnosis                         1.769912              17  \n",
       "meta_clinical_diagnosis_confirm_type            2.923255               3  \n",
       "meta_clinical_family_hx_mm                     89.032352               3  \n",
       "meta_clinical_melanocytic                       1.740897               3  \n",
       "meta_clinical_personal_hx_mm                   88.880023               3  \n",
       "meta_clinical_sex                               2.683882               3  \n",
       "name                                            0.000000           13786  "
      ]
     },
     "execution_count": 5,
     "metadata": {},
     "output_type": "execute_result"
    }
   ],
   "source": [
    "summaryze(meta)"
   ]
  },
  {
   "cell_type": "markdown",
   "metadata": {},
   "source": [
    "## II. Global Statistical Analysis"
   ]
  },
  {
   "cell_type": "code",
   "execution_count": 6,
   "metadata": {},
   "outputs": [
    {
     "data": {
      "text/plain": [
       "{nan,\n",
       " 'benign',\n",
       " 'indeterminate',\n",
       " 'indeterminate/benign',\n",
       " 'indeterminate/malignant',\n",
       " 'malignant'}"
      ]
     },
     "execution_count": 6,
     "metadata": {},
     "output_type": "execute_result"
    }
   ],
   "source": [
    "set(meta.meta_clinical_benign_malignant)"
   ]
  },
  {
   "cell_type": "code",
   "execution_count": 7,
   "metadata": {},
   "outputs": [
    {
     "data": {
      "image/png": "[encoded data removed]",
      "text/plain": [
       "<matplotlib.figure.Figure at 0x7f48364c2810>"
      ]
     },
     "metadata": {},
     "output_type": "display_data"
    }
   ],
   "source": [
    "fig = plt.figure(figsize=(7,7),dpi=100)\n",
    "temp = meta.groupby(meta.meta_clinical_benign_malignant).size()\n",
    "temp = plt.pie(temp, labels=list(set(meta.meta_clinical_benign_malignant.dropna())))\n",
    "plt.title(\"benign and malignant ratio\")\n",
    "plt.show()"
   ]
  },
  {
   "cell_type": "raw",
   "metadata": {},
   "source": [
    "#Distribution between train and test\n",
    "data=pd.concat([train,test])\n",
    "data['type_data']=['train'] * len(train) + ['test']*len(test) #car concaténation simple des deux data sets\n",
    "\n",
    "\n",
    "liste_var=['inc_angle']\n",
    "fig = plt.figure(figsize=(8,4),dpi=150)\n",
    "for var in liste_var:\n",
    "    #pdensity plot\n",
    "    try:\n",
    "        facet = sns.FacetGrid(data, hue=\"type_data\",aspect=4) #palette=\"Blues_d\"\n",
    "        facet.map(sns.kdeplot,var,shade= True)\n",
    "        plt.title('Distributions de %s' %(var))\n",
    "        facet.add_legend()\n",
    "        plt.show()\n",
    "    except Exception as e:\n",
    "        print(\"Error ploting %s à cause de l'erreur : %s\" %(var,e))\n",
    "        "
   ]
  },
  {
   "cell_type": "code",
   "execution_count": 8,
   "metadata": {},
   "outputs": [
    {
     "data": {
      "text/plain": [
       "1084"
      ]
     },
     "execution_count": 8,
     "metadata": {},
     "output_type": "execute_result"
    }
   ],
   "source": [
    "len(meta[meta[\"meta_clinical_benign_malignant\"]==\"malignant\"])"
   ]
  },
  {
   "cell_type": "code",
   "execution_count": 9,
   "metadata": {},
   "outputs": [
    {
     "data": {
      "text/plain": [
       "0.07863049470477296"
      ]
     },
     "execution_count": 9,
     "metadata": {},
     "output_type": "execute_result"
    }
   ],
   "source": [
    "len(meta[meta[\"meta_clinical_benign_malignant\"]==\"malignant\"])/float(len(meta))"
   ]
  },
  {
   "cell_type": "markdown",
   "metadata": {},
   "source": [
    "> ### some sampling might be needed"
   ]
  }
 ],
 "metadata": {
  "kernelspec": {
   "display_name": "Python 2",
   "language": "python",
   "name": "python2"
  },
  "language_info": {
   "codemirror_mode": {
    "name": "ipython",
    "version": 2
   },
   "file_extension": ".py",
   "mimetype": "text/x-python",
   "name": "python",
   "nbconvert_exporter": "python",
   "pygments_lexer": "ipython2",
   "version": "2.7.13"
  }
 },
 "nbformat": 4,
 "nbformat_minor": 2
}
