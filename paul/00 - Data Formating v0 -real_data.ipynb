{
 "cells": [
  {
   "cell_type": "markdown",
   "metadata": {},
   "source": [
    "# Skin cancer classification challenge"
   ]
  },
  {
   "cell_type": "markdown",
   "metadata": {},
   "source": [
    "**Summary :** Skin cancer classification"
   ]
  },
  {
   "cell_type": "markdown",
   "metadata": {},
   "source": [
    "## Preliminaries and Imports"
   ]
  },
  {
   "cell_type": "code",
   "execution_count": 15,
   "metadata": {
    "collapsed": true
   },
   "outputs": [],
   "source": [
    "import json\n",
    "import collections\n",
    "from PIL import Image\n",
    "import os, sys\n",
    "import pandas as pd\n",
    "import numpy as np\n",
    "import matplotlib.pyplot as plt\n",
    "import seaborn as sns\n",
    "plt.rcParams['figure.figsize'] = 10, 10  #default setting\n",
    "from mpl_toolkits.axes_grid1 import ImageGrid\n",
    "%matplotlib inline"
   ]
  },
  {
   "cell_type": "markdown",
   "metadata": {},
   "source": [
    "## I. Load metadata"
   ]
  },
  {
   "cell_type": "markdown",
   "metadata": {},
   "source": [
    "- **Rq : ** Datasets are quite light, can be fully loaded in a laptop memory with ease."
   ]
  },
  {
   "cell_type": "code",
   "execution_count": 16,
   "metadata": {},
   "outputs": [],
   "source": [
    "#Set all paths for data\n",
    "train_path = \"../data/Donnees_apprentissage/\"\n",
    "test_path = \"../data/Donnees_test/\"\n",
    "resized_folder = \"../data/resized_train\"\n",
    "resized_folder_ = \"../data/resized_test\"\n",
    "\n",
    "\n",
    "#create a target forlder for resized pictures\n",
    "if not os.path.exists(resized_folder):\n",
    "    os.makedirs(resized_folder)\n",
    "    \n",
    "if not os.path.exists(resized_folder_):\n",
    "    os.makedirs(resized_folder_)"
   ]
  },
  {
   "cell_type": "code",
   "execution_count": 17,
   "metadata": {},
   "outputs": [],
   "source": [
    "#saving file:\n",
    "meta = pd.read_csv(\"../data/label_learn.csv\",sep = \";\")"
   ]
  },
  {
   "cell_type": "code",
   "execution_count": 18,
   "metadata": {},
   "outputs": [
    {
     "data": {
      "text/html": [
       "<div>\n",
       "<style>\n",
       "    .dataframe thead tr:only-child th {\n",
       "        text-align: right;\n",
       "    }\n",
       "\n",
       "    .dataframe thead th {\n",
       "        text-align: left;\n",
       "    }\n",
       "\n",
       "    .dataframe tbody tr th {\n",
       "        vertical-align: top;\n",
       "    }\n",
       "</style>\n",
       "<table border=\"1\" class=\"dataframe\">\n",
       "  <thead>\n",
       "    <tr style=\"text-align: right;\">\n",
       "      <th></th>\n",
       "      <th>name</th>\n",
       "      <th>label</th>\n",
       "    </tr>\n",
       "  </thead>\n",
       "  <tbody>\n",
       "    <tr>\n",
       "      <th>0</th>\n",
       "      <td>0000000.jpg</td>\n",
       "      <td>benign</td>\n",
       "    </tr>\n",
       "    <tr>\n",
       "      <th>1</th>\n",
       "      <td>0000002.jpg</td>\n",
       "      <td>malignant</td>\n",
       "    </tr>\n",
       "    <tr>\n",
       "      <th>2</th>\n",
       "      <td>0000006.jpg</td>\n",
       "      <td>benign</td>\n",
       "    </tr>\n",
       "    <tr>\n",
       "      <th>3</th>\n",
       "      <td>0000008.jpg</td>\n",
       "      <td>benign</td>\n",
       "    </tr>\n",
       "    <tr>\n",
       "      <th>4</th>\n",
       "      <td>0000009.jpg</td>\n",
       "      <td>benign</td>\n",
       "    </tr>\n",
       "  </tbody>\n",
       "</table>\n",
       "</div>"
      ],
      "text/plain": [
       "          name      label\n",
       "0  0000000.jpg     benign\n",
       "1  0000002.jpg  malignant\n",
       "2  0000006.jpg     benign\n",
       "3  0000008.jpg     benign\n",
       "4  0000009.jpg     benign"
      ]
     },
     "execution_count": 18,
     "metadata": {},
     "output_type": "execute_result"
    }
   ],
   "source": [
    "meta.head()"
   ]
  },
  {
   "cell_type": "markdown",
   "metadata": {},
   "source": [
    "- **Data integrity check**"
   ]
  },
  {
   "cell_type": "code",
   "execution_count": 19,
   "metadata": {
    "collapsed": true
   },
   "outputs": [],
   "source": [
    "#data integrity check\n",
    "#variable types\n",
    "def summaryze(df):\n",
    "    summary =  pd.DataFrame()\n",
    "    summary[\"column\"] = list(df.columns)\n",
    "    summary[\"type\"] = list(df.dtypes)\n",
    "    summary[\"nb_missing_values\"] = list(df.isnull().sum())\n",
    "    summary[\"nb_missing_values%\"] = summary[\"nb_missing_values\"]/len(df)*100\n",
    "    summary.set_index(\"column\",inplace=True)\n",
    "    return summary"
   ]
  },
  {
   "cell_type": "code",
   "execution_count": 20,
   "metadata": {},
   "outputs": [
    {
     "data": {
      "text/html": [
       "<div>\n",
       "<style>\n",
       "    .dataframe thead tr:only-child th {\n",
       "        text-align: right;\n",
       "    }\n",
       "\n",
       "    .dataframe thead th {\n",
       "        text-align: left;\n",
       "    }\n",
       "\n",
       "    .dataframe tbody tr th {\n",
       "        vertical-align: top;\n",
       "    }\n",
       "</style>\n",
       "<table border=\"1\" class=\"dataframe\">\n",
       "  <thead>\n",
       "    <tr style=\"text-align: right;\">\n",
       "      <th></th>\n",
       "      <th>type</th>\n",
       "      <th>nb_missing_values</th>\n",
       "      <th>nb_missing_values%</th>\n",
       "    </tr>\n",
       "    <tr>\n",
       "      <th>column</th>\n",
       "      <th></th>\n",
       "      <th></th>\n",
       "      <th></th>\n",
       "    </tr>\n",
       "  </thead>\n",
       "  <tbody>\n",
       "    <tr>\n",
       "      <th>name</th>\n",
       "      <td>object</td>\n",
       "      <td>0</td>\n",
       "      <td>0.0</td>\n",
       "    </tr>\n",
       "    <tr>\n",
       "      <th>label</th>\n",
       "      <td>object</td>\n",
       "      <td>0</td>\n",
       "      <td>0.0</td>\n",
       "    </tr>\n",
       "  </tbody>\n",
       "</table>\n",
       "</div>"
      ],
      "text/plain": [
       "          type  nb_missing_values  nb_missing_values%\n",
       "column                                               \n",
       "name    object                  0                 0.0\n",
       "label   object                  0                 0.0"
      ]
     },
     "execution_count": 20,
     "metadata": {},
     "output_type": "execute_result"
    }
   ],
   "source": [
    "summaryze(meta)"
   ]
  },
  {
   "cell_type": "markdown",
   "metadata": {},
   "source": [
    "> ** First interpretations : **\n",
    "- Image datas are stored in band_1 and band_2 as matrix\n",
    "- Training set contains only 1 604 rows... warning! Data augmentation and other tricks are to be considered.\n",
    "- Inc_angle nature (?)"
   ]
  },
  {
   "cell_type": "markdown",
   "metadata": {},
   "source": [
    "# II. Treat and resize pictures"
   ]
  },
  {
   "cell_type": "raw",
   "metadata": {},
   "source": [
    "target  = \"../data/resized/\"\n",
    "filelist = [ f for f in os.listdir(target) if f.endswith(\".jpg\") ]\n",
    "len(filelist)"
   ]
  },
  {
   "cell_type": "code",
   "execution_count": 21,
   "metadata": {},
   "outputs": [
    {
     "name": "stdout",
     "output_type": "stream",
     "text": [
      "CPU times: user 0 ns, sys: 0 ns, total: 0 ns\n",
      "Wall time: 263 µs\n"
     ]
    }
   ],
   "source": [
    "%%time\n",
    "#purge target folder\n",
    "target  = \"../data/resized_train/\"\n",
    "filelist = [ f for f in os.listdir(target) if f.endswith(\".jpg\") ]\n",
    "for f in filelist:\n",
    "    os.remove(os.path.join(target, f))"
   ]
  },
  {
   "cell_type": "code",
   "execution_count": 22,
   "metadata": {
    "collapsed": true
   },
   "outputs": [],
   "source": [
    "def pad_center(img):\n",
    "    longer_side = max(img.size)\n",
    "    horizontal_padding = (longer_side - img.size[0]) / 2\n",
    "    vertical_padding = (longer_side - img.size[1]) / 2\n",
    "    img = img.crop(\n",
    "        (\n",
    "            -horizontal_padding,\n",
    "            -vertical_padding,\n",
    "            img.size[0] + horizontal_padding,\n",
    "            img.size[1] + vertical_padding\n",
    "        )\n",
    "    )\n",
    "    return img\n",
    "\n",
    "def crop_square(img):\n",
    "    min_side = min(img.size)/2\n",
    "    half_the_width = img.size[0] / 2\n",
    "    half_the_height = img.size[1] / 2\n",
    "    img = img.crop(\n",
    "        (\n",
    "            half_the_width - min_side,\n",
    "            half_the_height - min_side,\n",
    "            half_the_width + min_side,\n",
    "            half_the_height + min_side\n",
    "        )\n",
    "    )\n",
    "    return img"
   ]
  },
  {
   "cell_type": "code",
   "execution_count": 23,
   "metadata": {
    "collapsed": true
   },
   "outputs": [],
   "source": [
    "def resize(source,target,size):\n",
    "    dirs = os.listdir(source)\n",
    "    dirs = [x for x in dirs if \".jpg\" in x]\n",
    "    for item in dirs:\n",
    "        #print(source+\"/\"+item)\n",
    "        im = Image.open(source+\"/\"+item)\n",
    "        #f, e = os.path.splitext(source+\"/\"+item)\n",
    "        im = pad_center(im)\n",
    "        imResize = im.resize((size,size), Image.ANTIALIAS)\n",
    "        imResize.save(target+item, 'JPEG', quality=100)\n",
    "    return\n",
    "\n"
   ]
  },
  {
   "cell_type": "code",
   "execution_count": 24,
   "metadata": {
    "collapsed": true
   },
   "outputs": [],
   "source": [
    "dirs = os.listdir(\"../data/Donnees_apprentissage/\")\n",
    "dirs = [x for x in dirs if \".jpg\" in x]\n",
    "train_list = [\"../data/Donnees_apprentissage/\"+x for x in dirs if \".jpg\" in x]\n",
    "\n",
    "dirs = os.listdir(\"../data/Donnees_test/\")\n",
    "dirs = [x for x in dirs if \".jpg\" in x]\n",
    "test_list = [\"../data/Donnees_test/\"+x for x in dirs if \".jpg\" in x]"
   ]
  },
  {
   "cell_type": "code",
   "execution_count": null,
   "metadata": {},
   "outputs": [
    {
     "data": {
      "text/plain": [
       "True"
      ]
     },
     "execution_count": 25,
     "metadata": {},
     "output_type": "execute_result"
    }
   ],
   "source": [
    "len(train_list) == len(meta)"
   ]
  },
  {
   "cell_type": "code",
   "execution_count": null,
   "metadata": {},
   "outputs": [],
   "source": [
    "%%time\n",
    "\n",
    "import multiprocessing as mp\n",
    "import datetime\n",
    "\n",
    "size = 299\n",
    "target = \"../data/resized_train/\"\n",
    "\n",
    "def resize_(file_name):\n",
    "    #print(source+\"/\"+item)\n",
    "    im = Image.open(file_name)\n",
    "    #f, e = os.path.splitext(file_name)\n",
    "    im = crop_square(im)\n",
    "    imResize = im.resize((size,size), Image.ANTIALIAS)\n",
    "    item = file_name.split(\"/\")[3]\n",
    "    imResize.save(target+item, 'JPEG', quality=100)\n",
    "    return \n",
    "\n",
    "\n",
    "\n",
    "try:\n",
    "    pool = mp.Pool(processes=14)\n",
    "    start_time=datetime.datetime.now()\n",
    "    result = pool.map(resize_,train_list)\n",
    "    pool.close()\n",
    "    pool.join()\n",
    "    elapsed=datetime.datetime.now()-start_time\n",
    "    print(\"Done processing in %s\" %(elapsed))\n",
    "except Exception as e:\n",
    "    print(e)\n",
    "    pool.close()\n",
    "    pool.join()\n",
    "    print('Pool successfuly closed!')"
   ]
  },
  {
   "cell_type": "raw",
   "metadata": {},
   "source": [
    "%%time\n",
    "image_size = 299\n",
    "for folder in folders:\n",
    "    resize(main_path+folder,\"../data/resized/\",299)"
   ]
  },
  {
   "cell_type": "code",
   "execution_count": null,
   "metadata": {},
   "outputs": [],
   "source": [
    "#resized pictures\n",
    "temp = os.listdir(train_path)\n",
    "temp = [x for x in temp if \".jpg\" in x]\n",
    "img = Image.open(train_path+temp[4])\n",
    "plt.imshow(img)\n"
   ]
  },
  {
   "cell_type": "code",
   "execution_count": null,
   "metadata": {},
   "outputs": [],
   "source": [
    "temp = os.listdir(train_path)\n",
    "temp = [x for x in temp if \".jpg\" in x]\n",
    "img = Image.open(\"../data/resized_train/\"+temp[4])\n",
    "plt.imshow(img)    "
   ]
  },
  {
   "cell_type": "markdown",
   "metadata": {},
   "source": [
    "**Warning : ** resizing pictures deform images? except if padding"
   ]
  },
  {
   "cell_type": "code",
   "execution_count": null,
   "metadata": {
    "collapsed": true
   },
   "outputs": [],
   "source": [
    "#control\n",
    "target  = \"../data/resized_train/\"\n",
    "filelist = [ f for f in os.listdir(target) if f.endswith(\".jpg\") ]\n",
    "\n",
    "len(meta) == len(filelist)"
   ]
  },
  {
   "cell_type": "code",
   "execution_count": null,
   "metadata": {
    "collapsed": true
   },
   "outputs": [],
   "source": [
    "print(len(meta))\n",
    "print(len(filelist))"
   ]
  },
  {
   "cell_type": "markdown",
   "metadata": {},
   "source": [
    "# III. Split into train and test"
   ]
  },
  {
   "cell_type": "code",
   "execution_count": null,
   "metadata": {
    "collapsed": true
   },
   "outputs": [],
   "source": []
  },
  {
   "cell_type": "code",
   "execution_count": null,
   "metadata": {
    "collapsed": true
   },
   "outputs": [],
   "source": []
  }
 ],
 "metadata": {
  "kernelspec": {
   "display_name": "Python 2",
   "language": "python",
   "name": "python2"
  },
  "language_info": {
   "codemirror_mode": {
    "name": "ipython",
    "version": 2
   },
   "file_extension": ".py",
   "mimetype": "text/x-python",
   "name": "python",
   "nbconvert_exporter": "python",
   "pygments_lexer": "ipython2",
   "version": "2.7.14"
  }
 },
 "nbformat": 4,
 "nbformat_minor": 2
}
