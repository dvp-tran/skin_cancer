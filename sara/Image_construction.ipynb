{
 "cells": [
  {
   "cell_type": "code",
   "execution_count": 2,
   "metadata": {},
   "outputs": [],
   "source": [
    " import json\n",
    "import collections\n",
    "from PIL import Image\n",
    "import os, sys\n",
    "import pandas as pd\n",
    "import numpy as np\n",
    "import matplotlib.pyplot as plt\n",
    "import seaborn as sns\n",
    "plt.rcParams['figure.figsize'] = 10, 10  #default setting\n",
    "from mpl_toolkits.axes_grid1 import ImageGrid\n",
    "%matplotlib inline\n",
    "#Set all paths for data\n",
    "train_path = \"../data/Donnees_apprentissage/\"\n",
    "test_path = \"../data/Donnees_test/\"\n",
    "resized_folder = \"../data/resized_train\"\n",
    "resized_folder_ = \"../data/resized_test\"\n",
    "\n",
    "\n",
    "#create a target forlder for resized pictures\n",
    "if not os.path.exists(resized_folder):\n",
    "    os.makedirs(resized_folder)\n",
    "    \n",
    "if not os.path.exists(resized_folder_):\n",
    "    os.makedirs(resized_folder_)\n",
    "#saving file:\n",
    "meta = pd.read_csv(\"../data/label_learn.csv\",sep = \";\")\n",
    "\n",
    "#purge target folder\n",
    "target  = \"../data/resized_test/\"\n",
    "filelist = [ f for f in os.listdir(target) if f.endswith(\".jpg\") ]\n",
    "for f in filelist:\n",
    "    os.remove(os.path.join(target, f))\n",
    "def crop_square(img):\n",
    "    min_side = min(img.size)/2\n",
    "    half_the_width = img.size[0] / 2\n",
    "    half_the_height = img.size[1] / 2\n",
    "    img = img.crop(\n",
    "        (\n",
    "            half_the_width - min_side,\n",
    "            half_the_height - min_side,\n",
    "            half_the_width + min_side,\n",
    "            half_the_height + min_side\n",
    "        )\n",
    "    )\n",
    "    return img\n",
    "def resize(source,target,size):\n",
    "    dirs = os.listdir(source)\n",
    "    dirs = [x for x in dirs if \".jpg\" in x]\n",
    "    for item in dirs:\n",
    "        #print(source+\"/\"+item)\n",
    "        im = Image.open(source+\"/\"+item)\n",
    "        #f, e = os.path.splitext(source+\"/\"+item)\n",
    "        im = pad_center(im)\n",
    "        imResize = im.resize((size,size), Image.ANTIALIAS)\n",
    "        imResize.save(target+item, 'JPEG', quality=100)\n",
    "    return\n",
    "\n",
    "dirs = os.listdir(\"../data/Donnees_apprentissage/\")\n",
    "dirs = [x for x in dirs if \".jpg\" in x]\n",
    "train_list = [\"../data/Donnees_apprentissage/\"+x for x in dirs if \".jpg\" in x]\n",
    "\n",
    "dirs = os.listdir(\"../data/Donnees_test/\")\n",
    "dirs = [x for x in dirs if \".jpg\" in x]\n",
    "test_list = [\"../data/Donnees_test/\"+x for x in dirs if \".jpg\" in x]"
   ]
  },
  {
   "cell_type": "code",
   "execution_count": 6,
   "metadata": {},
   "outputs": [
    {
     "name": "stdout",
     "output_type": "stream",
     "text": [
      "Done processing in 0:04:05.575812\n",
      "CPU times: user 216 ms, sys: 180 ms, total: 396 ms\n",
      "Wall time: 4min 5s\n"
     ]
    }
   ],
   "source": [
    "%%time\n",
    "\n",
    "import multiprocessing as mp\n",
    "import datetime\n",
    "\n",
    "size = 299\n",
    "target = \"../data/resized_train/\"\n",
    "\n",
    "def resize_(file_name):\n",
    "    #print(source+\"/\"+item)\n",
    "    im = Image.open(file_name)\n",
    "    #f, e = os.path.splitext(file_name)\n",
    "    im = crop_square(im)\n",
    "    imResize = im.resize((size,size), Image.ANTIALIAS)\n",
    "    item = file_name.split(\"/\")[3]\n",
    "    imResize.save(target+item, 'JPEG', quality=100)\n",
    "    return \n",
    "\n",
    "\n",
    "\n",
    "try:\n",
    "    pool = mp.Pool(processes=14)\n",
    "    start_time=datetime.datetime.now()\n",
    "    result = pool.map(resize_,train_list)\n",
    "    pool.close()\n",
    "    pool.join()\n",
    "    elapsed=datetime.datetime.now()-start_time\n",
    "    print(\"Done processing in %s\" %(elapsed))\n",
    "except Exception as e:\n",
    "    print(e)\n",
    "    pool.close()\n",
    "    pool.join()\n",
    "    print('Pool successfuly closed!')"
   ]
  },
  {
   "cell_type": "code",
   "execution_count": null,
   "metadata": {
    "collapsed": true
   },
   "outputs": [],
   "source": []
  }
 ],
 "metadata": {
  "kernelspec": {
   "display_name": "Python 2",
   "language": "python",
   "name": "python2"
  },
  "language_info": {
   "codemirror_mode": {
    "name": "ipython",
    "version": 2
   },
   "file_extension": ".py",
   "mimetype": "text/x-python",
   "name": "python",
   "nbconvert_exporter": "python",
   "pygments_lexer": "ipython2",
   "version": "2.7.14"
  }
 },
 "nbformat": 4,
 "nbformat_minor": 2
}
