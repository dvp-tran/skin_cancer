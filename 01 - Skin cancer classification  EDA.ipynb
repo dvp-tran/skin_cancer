{
 "cells": [
  {
   "cell_type": "markdown",
   "metadata": {},
   "source": [
    "# Skin cancer classification challenge"
   ]
  },
  {
   "cell_type": "markdown",
   "metadata": {},
   "source": [
    "**Summary :** Skin cancer classification"
   ]
  },
  {
   "cell_type": "markdown",
   "metadata": {},
   "source": [
    "## Preliminaries and Imports"
   ]
  },
  {
   "cell_type": "code",
   "execution_count": 1,
   "metadata": {
    "collapsed": true
   },
   "outputs": [],
   "source": [
    "import pandas as pd\n",
    "import numpy as np\n",
    "import matplotlib.pyplot as plt\n",
    "import seaborn as sns\n",
    "plt.rcParams['figure.figsize'] = 10, 10  #default setting\n",
    "from mpl_toolkits.axes_grid1 import ImageGrid\n",
    "%matplotlib inline"
   ]
  },
  {
   "cell_type": "markdown",
   "metadata": {},
   "source": [
    "## I. Load Data"
   ]
  },
  {
   "cell_type": "markdown",
   "metadata": {},
   "source": [
    "- **Rq : ** Datasets are quite light, can be fully loaded in a laptop memory with ease."
   ]
  },
  {
   "cell_type": "code",
   "execution_count": 2,
   "metadata": {},
   "outputs": [
    {
     "name": "stdout",
     "output_type": "stream",
     "text": [
      "CPU times: user 4 ms, sys: 0 ns, total: 4 ms\n",
      "Wall time: 6.02 ms\n"
     ]
    }
   ],
   "source": [
    "%%time\n",
    "meta = pd.read_csv(\"data/metadata.csv\")"
   ]
  },
  {
   "cell_type": "code",
   "execution_count": 3,
   "metadata": {},
   "outputs": [
    {
     "name": "stdout",
     "output_type": "stream",
     "text": [
      "(1675, 13)\n"
     ]
    }
   ],
   "source": [
    "print(meta.shape)"
   ]
  },
  {
   "cell_type": "markdown",
   "metadata": {},
   "source": [
    "- **Data integrity check**"
   ]
  },
  {
   "cell_type": "code",
   "execution_count": 4,
   "metadata": {
    "collapsed": true
   },
   "outputs": [],
   "source": [
    "#data integrity check\n",
    "#variable types\n",
    "def summaryze(df):\n",
    "    summary =  pd.DataFrame()\n",
    "    summary[\"column\"] = list(df.columns)\n",
    "    summary[\"type\"] = list(df.dtypes)\n",
    "    summary[\"nb_missing_values\"] = list(df.isnull().sum())\n",
    "    summary[\"nb_missing_values%\"] = summary[\"nb_missing_values\"]/len(df)*100\n",
    "    summary[\"unique_values%\"] = [len(set(df[x])) for x in list(df.columns)]\n",
    "    summary.set_index(\"column\",inplace=True)\n",
    "    return summary"
   ]
  },
  {
   "cell_type": "code",
   "execution_count": 5,
   "metadata": {},
   "outputs": [
    {
     "data": {
      "text/html": [
       "<div>\n",
       "<table border=\"1\" class=\"dataframe\">\n",
       "  <thead>\n",
       "    <tr style=\"text-align: right;\">\n",
       "      <th></th>\n",
       "      <th>type</th>\n",
       "      <th>nb_missing_values</th>\n",
       "      <th>nb_missing_values%</th>\n",
       "      <th>unique_values%</th>\n",
       "    </tr>\n",
       "    <tr>\n",
       "      <th>column</th>\n",
       "      <th></th>\n",
       "      <th></th>\n",
       "      <th></th>\n",
       "      <th></th>\n",
       "    </tr>\n",
       "  </thead>\n",
       "  <tbody>\n",
       "    <tr>\n",
       "      <th>_id</th>\n",
       "      <td>object</td>\n",
       "      <td>0</td>\n",
       "      <td>0.000000</td>\n",
       "      <td>1675</td>\n",
       "    </tr>\n",
       "    <tr>\n",
       "      <th>folder</th>\n",
       "      <td>object</td>\n",
       "      <td>0</td>\n",
       "      <td>0.000000</td>\n",
       "      <td>4</td>\n",
       "    </tr>\n",
       "    <tr>\n",
       "      <th>meta_acquisition_dermoscopic_type</th>\n",
       "      <td>object</td>\n",
       "      <td>855</td>\n",
       "      <td>51.044776</td>\n",
       "      <td>2</td>\n",
       "    </tr>\n",
       "    <tr>\n",
       "      <th>meta_acquisition_image_type</th>\n",
       "      <td>object</td>\n",
       "      <td>0</td>\n",
       "      <td>0.000000</td>\n",
       "      <td>1</td>\n",
       "    </tr>\n",
       "    <tr>\n",
       "      <th>meta_acquisition_pixelsX</th>\n",
       "      <td>int64</td>\n",
       "      <td>0</td>\n",
       "      <td>0.000000</td>\n",
       "      <td>79</td>\n",
       "    </tr>\n",
       "    <tr>\n",
       "      <th>meta_acquisition_pixelsY</th>\n",
       "      <td>int64</td>\n",
       "      <td>0</td>\n",
       "      <td>0.000000</td>\n",
       "      <td>80</td>\n",
       "    </tr>\n",
       "    <tr>\n",
       "      <th>meta_clinical_age_approx</th>\n",
       "      <td>float64</td>\n",
       "      <td>272</td>\n",
       "      <td>16.238806</td>\n",
       "      <td>289</td>\n",
       "    </tr>\n",
       "    <tr>\n",
       "      <th>meta_clinical_benign_malignant</th>\n",
       "      <td>object</td>\n",
       "      <td>0</td>\n",
       "      <td>0.000000</td>\n",
       "      <td>4</td>\n",
       "    </tr>\n",
       "    <tr>\n",
       "      <th>meta_clinical_diagnosis</th>\n",
       "      <td>object</td>\n",
       "      <td>2</td>\n",
       "      <td>0.119403</td>\n",
       "      <td>8</td>\n",
       "    </tr>\n",
       "    <tr>\n",
       "      <th>meta_clinical_diagnosis_confirm_type</th>\n",
       "      <td>object</td>\n",
       "      <td>398</td>\n",
       "      <td>23.761194</td>\n",
       "      <td>3</td>\n",
       "    </tr>\n",
       "    <tr>\n",
       "      <th>meta_clinical_melanocytic</th>\n",
       "      <td>object</td>\n",
       "      <td>2</td>\n",
       "      <td>0.119403</td>\n",
       "      <td>3</td>\n",
       "    </tr>\n",
       "    <tr>\n",
       "      <th>meta_clinical_sex</th>\n",
       "      <td>object</td>\n",
       "      <td>264</td>\n",
       "      <td>15.761194</td>\n",
       "      <td>3</td>\n",
       "    </tr>\n",
       "    <tr>\n",
       "      <th>name</th>\n",
       "      <td>object</td>\n",
       "      <td>0</td>\n",
       "      <td>0.000000</td>\n",
       "      <td>1675</td>\n",
       "    </tr>\n",
       "  </tbody>\n",
       "</table>\n",
       "</div>"
      ],
      "text/plain": [
       "                                         type  nb_missing_values  \\\n",
       "column                                                             \n",
       "_id                                    object                  0   \n",
       "folder                                 object                  0   \n",
       "meta_acquisition_dermoscopic_type      object                855   \n",
       "meta_acquisition_image_type            object                  0   \n",
       "meta_acquisition_pixelsX                int64                  0   \n",
       "meta_acquisition_pixelsY                int64                  0   \n",
       "meta_clinical_age_approx              float64                272   \n",
       "meta_clinical_benign_malignant         object                  0   \n",
       "meta_clinical_diagnosis                object                  2   \n",
       "meta_clinical_diagnosis_confirm_type   object                398   \n",
       "meta_clinical_melanocytic              object                  2   \n",
       "meta_clinical_sex                      object                264   \n",
       "name                                   object                  0   \n",
       "\n",
       "                                      nb_missing_values%  unique_values%  \n",
       "column                                                                    \n",
       "_id                                             0.000000            1675  \n",
       "folder                                          0.000000               4  \n",
       "meta_acquisition_dermoscopic_type              51.044776               2  \n",
       "meta_acquisition_image_type                     0.000000               1  \n",
       "meta_acquisition_pixelsX                        0.000000              79  \n",
       "meta_acquisition_pixelsY                        0.000000              80  \n",
       "meta_clinical_age_approx                       16.238806             289  \n",
       "meta_clinical_benign_malignant                  0.000000               4  \n",
       "meta_clinical_diagnosis                         0.119403               8  \n",
       "meta_clinical_diagnosis_confirm_type           23.761194               3  \n",
       "meta_clinical_melanocytic                       0.119403               3  \n",
       "meta_clinical_sex                              15.761194               3  \n",
       "name                                            0.000000            1675  "
      ]
     },
     "execution_count": 5,
     "metadata": {},
     "output_type": "execute_result"
    }
   ],
   "source": [
    "summaryze(meta)"
   ]
  },
  {
   "cell_type": "markdown",
   "metadata": {},
   "source": [
    "## II. Global Statistical Analysis"
   ]
  },
  {
   "cell_type": "code",
   "execution_count": 6,
   "metadata": {},
   "outputs": [
    {
     "data": {
      "text/plain": [
       "{'benign', 'indeterminate', 'indeterminate/benign', 'malignant'}"
      ]
     },
     "execution_count": 6,
     "metadata": {},
     "output_type": "execute_result"
    }
   ],
   "source": [
    "set(meta.meta_clinical_benign_malignant)"
   ]
  },
  {
   "cell_type": "code",
   "execution_count": 7,
   "metadata": {},
   "outputs": [
    {
     "data": {
      "image/png": "[encoded data removed]",
      "text/plain": [
       "<matplotlib.figure.Figure at 0x7f702f39a0d0>"
      ]
     },
     "metadata": {},
     "output_type": "display_data"
    }
   ],
   "source": [
    "fig = plt.figure(figsize=(7,7),dpi=100)\n",
    "temp = meta.groupby(meta.meta_clinical_benign_malignant).size()\n",
    "temp = plt.pie(temp, labels=list(set(meta.meta_clinical_benign_malignant)))\n",
    "plt.title(\"benign and malignant ratio\")\n",
    "plt.show()"
   ]
  },
  {
   "cell_type": "raw",
   "metadata": {},
   "source": [
    "#Distribution between train and test\n",
    "data=pd.concat([train,test])\n",
    "data['type_data']=['train'] * len(train) + ['test']*len(test) #car concaténation simple des deux data sets\n",
    "\n",
    "\n",
    "liste_var=['inc_angle']\n",
    "fig = plt.figure(figsize=(8,4),dpi=150)\n",
    "for var in liste_var:\n",
    "    #pdensity plot\n",
    "    try:\n",
    "        facet = sns.FacetGrid(data, hue=\"type_data\",aspect=4) #palette=\"Blues_d\"\n",
    "        facet.map(sns.kdeplot,var,shade= True)\n",
    "        plt.title('Distributions de %s' %(var))\n",
    "        facet.add_legend()\n",
    "        plt.show()\n",
    "    except Exception as e:\n",
    "        print(\"Error ploting %s à cause de l'erreur : %s\" %(var,e))\n",
    "        "
   ]
  },
  {
   "cell_type": "code",
   "execution_count": 8,
   "metadata": {},
   "outputs": [
    {
     "data": {
      "text/plain": [
       "412"
      ]
     },
     "execution_count": 8,
     "metadata": {},
     "output_type": "execute_result"
    }
   ],
   "source": [
    "len(meta[meta[\"meta_clinical_benign_malignant\"]==\"malignant\"])"
   ]
  },
  {
   "cell_type": "markdown",
   "metadata": {},
   "source": [
    "> ### some sampling might be needed"
   ]
  }
 ],
 "metadata": {
  "kernelspec": {
   "display_name": "Python 2",
   "language": "python",
   "name": "python2"
  },
  "language_info": {
   "codemirror_mode": {
    "name": "ipython",
    "version": 2
   },
   "file_extension": ".py",
   "mimetype": "text/x-python",
   "name": "python",
   "nbconvert_exporter": "python",
   "pygments_lexer": "ipython2",
   "version": "2.7.13"
  }
 },
 "nbformat": 4,
 "nbformat_minor": 2
}
